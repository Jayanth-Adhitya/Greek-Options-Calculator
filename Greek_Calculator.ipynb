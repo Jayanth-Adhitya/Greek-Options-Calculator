{
 "cells": [
  {
   "cell_type": "markdown",
   "metadata": {},
   "source": [
    "In order to know more information about a stock option, this options calculator with Black-Scholes Model, the first widely used model for option pricing, can provide the call/put option price, d1, d2, and Greek letters. It can assist investors in establishing an option trading strategy. "
   ]
  },
  {
   "cell_type": "markdown",
   "metadata": {},
   "source": [
    "#### Certain assumptions must be made due to this calculator is modeled by Black-Scholes model. \n",
    "  * It works on European options that can only be exercised at expiration.\n",
    "  * No dividends are paid out during the option’s life.\n",
    "  * Stock markets are efficient. \n",
    "  * There are no transaction and commissions costs in buying the option.\n",
    "  * The risk-free rate and volatility of the underlying are known and constant.\n",
    "  * The returns on the underlying are normally distributed."
   ]
  },
  {
   "cell_type": "markdown",
   "metadata": {},
   "source": [
    "#### Input variables:\n",
    "  * Underlying price (per share): S; \n",
    "  * Strike price of the option (per share): K;\n",
    "  * Time to maturity (years): T;\n",
    "  * Continuously compounding risk-free interest rate: r;\n",
    "  * Volatility: sigma;"
   ]
  },
  {
   "cell_type": "markdown",
   "metadata": {},
   "source": [
    "#### Output Variables:\n",
    "The cumulative density function of normal distribution N(.)\n",
    "- N(d2) is the risk-adjusted probability that the option will be exercised.\n",
    "- N(d1) is the probability of receiving the stock at expiration of the option.\n",
    "\n",
    "The Greek letters\n",
    "- Delta: The rate of change of the option price respected to the rate of the change of underlying asset price. \n",
    "- Gamma: The rate of change of delta respected to the rate of change of underlying asset price.\n",
    "- Vega: The rate of change of the option price respected to the volatility of the underlying asset. \n",
    "- Rho: The rate of the option price respected to the interest rate. \n",
    "- Theta: The rate of change of the option price respected to the passage of time."
   ]
  },
  {
   "cell_type": "code",
   "execution_count": 6,
   "metadata": {},
   "outputs": [],
   "source": [
    "## import certain packages\n",
    "from math import log, sqrt, pi, exp\n",
    "from scipy.stats import norm\n",
    "from datetime import datetime, date\n",
    "import numpy as np\n",
    "import pandas as pd\n",
    "from pandas import DataFrame"
   ]
  },
  {
   "cell_type": "code",
   "execution_count": 7,
   "metadata": {},
   "outputs": [],
   "source": [
    "# Underlying price (per share): S; \n",
    "# Strike price of the option (per share): K;\n",
    "# Time to maturity (years): T;\n",
    "# Continuously compounding risk-free interest rate: r;\n",
    "# Volatility: sigma;\n",
    "\n",
    "## define two functions, d1 and d2 in Black-Scholes model\n",
    "def d1(S,K,T,r,sigma):\n",
    "    return(log(S/K)+(r+sigma**2/2.)*T)/sigma*sqrt(T)\n",
    "def d2(S,K,T,r,sigma):\n",
    "    return d1(S,K,T,r,sigma)-sigma*sqrt(T)\n",
    "\n",
    "## define the call options price function\n",
    "def bs_call(S,K,T,r,sigma):\n",
    "    return S*norm.cdf(d1(S,K,T,r,sigma))-K*exp(-r*T)*norm.cdf(d2(S,K,T,r,sigma))\n",
    "\n",
    "## define the put options price function\n",
    "def bs_put(S,K,T,r,sigma):\n",
    "    return K*exp(-r*T)-S+bs_call(S,K,T,r,sigma)\n",
    "\n",
    "## define the Call_Greeks of an option\n",
    "def call_delta(S,K,T,r,sigma):\n",
    "    return norm.cdf(d1(S,K,T,r,sigma))\n",
    "def call_gamma(S,K,T,r,sigma):\n",
    "    return norm.pdf(d1(S,K,T,r,sigma))/(S*sigma*sqrt(T))\n",
    "def call_vega(S,K,T,r,sigma):\n",
    "    return 0.01*(S*norm.pdf(d1(S,K,T,r,sigma))*sqrt(T))\n",
    "def call_theta(S,K,T,r,sigma):\n",
    "    return 0.01*(-(S*norm.pdf(d1(S,K,T,r,sigma))*sigma)/(2*sqrt(T)) - r*K*exp(-r*T)*norm.cdf(d2(S,K,T,r,sigma)))\n",
    "def call_rho(S,K,T,r,sigma):\n",
    "    return 0.01*(K*T*exp(-r*T)*norm.cdf(d2(S,K,T,r,sigma)))\n",
    "\n",
    "## define the Put_Greeks of an option\n",
    "def put_delta(S,K,T,r,sigma):\n",
    "    return -norm.cdf(-d1(S,K,T,r,sigma))\n",
    "def put_gamma(S,K,T,r,sigma):\n",
    "    return norm.pdf(d1(S,K,T,r,sigma))/(S*sigma*sqrt(T))\n",
    "def put_vega(S,K,T,r,sigma):\n",
    "    return 0.01*(S*norm.pdf(d1(S,K,T,r,sigma))*sqrt(T))\n",
    "def put_theta(S,K,T,r,sigma):\n",
    "    return 0.01*(-(S*norm.pdf(d1(S,K,T,r,sigma))*sigma)/(2*sqrt(T)) + r*K*exp(-r*T)*norm.cdf(-d2(S,K,T,r,sigma)))\n",
    "def put_rho(S,K,T,r,sigma):\n",
    "    return 0.01*(-K*T*exp(-r*T)*norm.cdf(-d2(S,K,T,r,sigma)))\n",
    "\n",
    "\n"
   ]
  },
  {
   "cell_type": "markdown",
   "metadata": {},
   "source": [
    "# Input "
   ]
  },
  {
   "cell_type": "code",
   "execution_count": 8,
   "metadata": {},
   "outputs": [
    {
     "name": "stdout",
     "output_type": "stream",
     "text": [
      "                        Symbol      Input\n",
      "Underlying price             S  250.00000\n",
      "Strike price                 K  300.00000\n",
      "Time to maturity             T    0.99726\n",
      "Risk-free interest rate      r    5.00000\n",
      "Volatility               sigma   10.00000\n"
     ]
    }
   ],
   "source": [
    "from datetime import datetime\n",
    "from pandas import DataFrame\n",
    "\n",
    "# Function to validate positive numeric input\n",
    "def validate_positive_numeric_input(prompt):\n",
    "    while True:\n",
    "        value = input(prompt)\n",
    "        try:\n",
    "            value = float(value)\n",
    "            if value <= 0:\n",
    "                print(\"Value must be positive. Please try again.\")\n",
    "                continue\n",
    "            return value\n",
    "        except ValueError:\n",
    "            print(\"Invalid input. Please enter a numeric value.\")\n",
    "\n",
    "# Function to validate future expiration date\n",
    "def validate_future_date(prompt):\n",
    "    while True:\n",
    "        expiration_date = input(prompt)\n",
    "        try:\n",
    "            expiration_date = datetime.strptime(expiration_date, \"%m-%d-%Y\")\n",
    "            if expiration_date <= datetime.utcnow():\n",
    "                print(\"Expiration date must be in the future. Please try again.\")\n",
    "                continue\n",
    "            return expiration_date\n",
    "        except ValueError:\n",
    "            print(\"Invalid date format. Please enter date in mm-dd-yyyy.\")\n",
    "\n",
    "# Input the current stock price\n",
    "S = validate_positive_numeric_input(\"What is the current stock price? \")\n",
    "\n",
    "# Input the strike price\n",
    "K = validate_positive_numeric_input(\"What is the strike price? \")\n",
    "\n",
    "# Input the expiration date and calculate time to maturity\n",
    "expiration_date = validate_future_date(\"What is the expiration date of the options? (mm-dd-yyyy) \")\n",
    "T = (expiration_date - datetime.utcnow()).days / 365\n",
    "\n",
    "# Input the continuously compounding risk-free interest rate\n",
    "r = validate_positive_numeric_input(\"What is the continuously compounding risk-free interest rate in percentage(%)? \")\n",
    "\n",
    "# Input the volatility\n",
    "while True:\n",
    "    sigma = validate_positive_numeric_input(\"What is the volatility in percentage(%)? \")\n",
    "    if sigma > 100:\n",
    "        print(\"Volatility cannot be greater than 100%. Please enter a valid value.\")\n",
    "    else:\n",
    "        break\n",
    "\n",
    "# Create a DataFrame of the inputs\n",
    "data = {'Symbol': ['S', 'K', 'T', 'r', 'sigma'],\n",
    "        'Input': [S, K, T, r, sigma]}\n",
    "input_frame = DataFrame(data, columns=['Symbol', 'Input'], \n",
    "                        index=['Underlying price', 'Strike price', 'Time to maturity', \n",
    "                               'Risk-free interest rate', 'Volatility'])\n",
    "\n",
    "print(input_frame)\n"
   ]
  },
  {
   "cell_type": "markdown",
   "metadata": {},
   "source": [
    "## Output"
   ]
  },
  {
   "cell_type": "code",
   "execution_count": 9,
   "metadata": {},
   "outputs": [
    {
     "data": {
      "text/html": [
       "<div>\n",
       "<style scoped>\n",
       "    .dataframe tbody tr th:only-of-type {\n",
       "        vertical-align: middle;\n",
       "    }\n",
       "\n",
       "    .dataframe tbody tr th {\n",
       "        vertical-align: top;\n",
       "    }\n",
       "\n",
       "    .dataframe thead th {\n",
       "        text-align: right;\n",
       "    }\n",
       "</style>\n",
       "<table border=\"1\" class=\"dataframe\">\n",
       "  <thead>\n",
       "    <tr style=\"text-align: right;\">\n",
       "      <th></th>\n",
       "      <th>Call</th>\n",
       "      <th>Put</th>\n",
       "    </tr>\n",
       "  </thead>\n",
       "  <tbody>\n",
       "    <tr>\n",
       "      <th>Price</th>\n",
       "      <td>1.146841</td>\n",
       "      <td>36.554762</td>\n",
       "    </tr>\n",
       "    <tr>\n",
       "      <th>delta</th>\n",
       "      <td>0.101513</td>\n",
       "      <td>-0.898487</td>\n",
       "    </tr>\n",
       "    <tr>\n",
       "      <th>gamma</th>\n",
       "      <td>0.007107</td>\n",
       "      <td>0.007107</td>\n",
       "    </tr>\n",
       "    <tr>\n",
       "      <th>vega</th>\n",
       "      <td>0.442970</td>\n",
       "      <td>0.442970</td>\n",
       "    </tr>\n",
       "    <tr>\n",
       "      <th>rho</th>\n",
       "      <td>0.241651</td>\n",
       "      <td>-2.604608</td>\n",
       "    </tr>\n",
       "    <tr>\n",
       "      <th>theta</th>\n",
       "      <td>-0.034325</td>\n",
       "      <td>0.108379</td>\n",
       "    </tr>\n",
       "  </tbody>\n",
       "</table>\n",
       "</div>"
      ],
      "text/plain": [
       "           Call        Put\n",
       "Price  1.146841  36.554762\n",
       "delta  0.101513  -0.898487\n",
       "gamma  0.007107   0.007107\n",
       "vega   0.442970   0.442970\n",
       "rho    0.241651  -2.604608\n",
       "theta -0.034325   0.108379"
      ]
     },
     "execution_count": 9,
     "metadata": {},
     "output_type": "execute_result"
    }
   ],
   "source": [
    "## calculate the call / put option price and the greeks of the call / put option\n",
    "r = r/100; sigma = sigma/100;\n",
    "price_and_greeks = {'Call' : [bs_call(S,K,T,r,sigma), call_delta(S,K,T,r,sigma), call_gamma(S,K,T,r,sigma),call_vega(S,K,T,r,sigma), call_rho(S,K,T,r,sigma), call_theta(S,K,T,r,sigma)],\n",
    "                    'Put' : [bs_put(S,K,T,r,sigma), put_delta(S,K,T,r,sigma), put_gamma(S,K,T,r,sigma),put_vega(S,K,T,r,sigma), put_rho(S,K,T,r,sigma), put_theta(S,K,T,r,sigma)]}\n",
    "price_and_greeks_frame = DataFrame(price_and_greeks, columns=['Call','Put'], index=['Price', 'delta', 'gamma','vega','rho','theta'])\n",
    "price_and_greeks_frame"
   ]
  }
 ],
 "metadata": {
  "kernelspec": {
   "display_name": "Python 3",
   "language": "python",
   "name": "python3"
  },
  "language_info": {
   "codemirror_mode": {
    "name": "ipython",
    "version": 3
   },
   "file_extension": ".py",
   "mimetype": "text/x-python",
   "name": "python",
   "nbconvert_exporter": "python",
   "pygments_lexer": "ipython3",
   "version": "3.10.9"
  }
 },
 "nbformat": 4,
 "nbformat_minor": 2
}
